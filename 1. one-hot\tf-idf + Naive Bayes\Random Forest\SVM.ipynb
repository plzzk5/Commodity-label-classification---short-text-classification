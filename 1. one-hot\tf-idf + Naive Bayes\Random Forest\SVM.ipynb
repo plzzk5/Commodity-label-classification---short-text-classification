{
 "cells": [
  {
   "cell_type": "code",
   "execution_count": 1,
   "id": "a2841463",
   "metadata": {},
   "outputs": [],
   "source": [
    "#import\n",
    "import numpy as np\n",
    "import pandas as pd\n",
    "import seaborn\n",
    "import codecs\n",
    "import jieba\n",
    "from sklearn.model_selection import train_test_split\n",
    "import matplotlib.pyplot as plt\n",
    "from sklearn.naive_bayes import GaussianNB\n",
    "from sklearn.metrics import accuracy_score,roc_curve,auc,precision_recall_curve\n",
    "from sklearn.metrics import classification_report,f1_score"
   ]
  },
  {
   "cell_type": "code",
   "execution_count": 2,
   "id": "808ba55f",
   "metadata": {},
   "outputs": [
    {
     "data": {
      "text/html": [
       "<div>\n",
       "<style scoped>\n",
       "    .dataframe tbody tr th:only-of-type {\n",
       "        vertical-align: middle;\n",
       "    }\n",
       "\n",
       "    .dataframe tbody tr th {\n",
       "        vertical-align: top;\n",
       "    }\n",
       "\n",
       "    .dataframe thead th {\n",
       "        text-align: right;\n",
       "    }\n",
       "</style>\n",
       "<table border=\"1\" class=\"dataframe\">\n",
       "  <thead>\n",
       "    <tr style=\"text-align: right;\">\n",
       "      <th></th>\n",
       "      <th>商品名称</th>\n",
       "      <th>一级分类</th>\n",
       "      <th>二级分类</th>\n",
       "      <th>三级分类</th>\n",
       "    </tr>\n",
       "  </thead>\n",
       "  <tbody>\n",
       "    <tr>\n",
       "      <th>0</th>\n",
       "      <td>**N蓝妹啤酒易拉罐3</td>\n",
       "      <td>酒类</td>\n",
       "      <td>啤酒</td>\n",
       "      <td>啤酒</td>\n",
       "    </tr>\n",
       "    <tr>\n",
       "      <th>1</th>\n",
       "      <td>农夫水溶C100青皮桔445ml</td>\n",
       "      <td>饮料</td>\n",
       "      <td>果蔬汁</td>\n",
       "      <td>果蔬饮料</td>\n",
       "    </tr>\n",
       "    <tr>\n",
       "      <th>2</th>\n",
       "      <td>N七匹狼（软灰）</td>\n",
       "      <td>烟类</td>\n",
       "      <td>香烟</td>\n",
       "      <td>软盒香烟</td>\n",
       "    </tr>\n",
       "    <tr>\n",
       "      <th>3</th>\n",
       "      <td>N七匹狼（软红）</td>\n",
       "      <td>烟类</td>\n",
       "      <td>香烟</td>\n",
       "      <td>软盒香烟</td>\n",
       "    </tr>\n",
       "    <tr>\n",
       "      <th>4</th>\n",
       "      <td>农夫山泉水550ml</td>\n",
       "      <td>饮料</td>\n",
       "      <td>水</td>\n",
       "      <td>矿泉水</td>\n",
       "    </tr>\n",
       "  </tbody>\n",
       "</table>\n",
       "</div>"
      ],
      "text/plain": [
       "               商品名称 一级分类 二级分类  三级分类\n",
       "0       **N蓝妹啤酒易拉罐3   酒类   啤酒    啤酒\n",
       "1  农夫水溶C100青皮桔445ml   饮料  果蔬汁  果蔬饮料\n",
       "2          N七匹狼（软灰）   烟类   香烟  软盒香烟\n",
       "3          N七匹狼（软红）   烟类   香烟  软盒香烟\n",
       "4        农夫山泉水550ml   饮料    水   矿泉水"
      ]
     },
     "execution_count": 2,
     "metadata": {},
     "output_type": "execute_result"
    }
   ],
   "source": [
    "data = pd.read_csv('/Users/mac/Desktop/2022春课件/时序/商品清单（new）.csv')\n",
    "data.head()"
   ]
  },
  {
   "cell_type": "code",
   "execution_count": 3,
   "id": "a45f91e9",
   "metadata": {},
   "outputs": [
    {
     "data": {
      "text/html": [
       "<div>\n",
       "<style scoped>\n",
       "    .dataframe tbody tr th:only-of-type {\n",
       "        vertical-align: middle;\n",
       "    }\n",
       "\n",
       "    .dataframe tbody tr th {\n",
       "        vertical-align: top;\n",
       "    }\n",
       "\n",
       "    .dataframe thead th {\n",
       "        text-align: right;\n",
       "    }\n",
       "</style>\n",
       "<table border=\"1\" class=\"dataframe\">\n",
       "  <thead>\n",
       "    <tr style=\"text-align: right;\">\n",
       "      <th></th>\n",
       "      <th>商品名称</th>\n",
       "      <th>一级分类</th>\n",
       "      <th>二级分类</th>\n",
       "      <th>三级分类</th>\n",
       "      <th>一级分类_整数</th>\n",
       "      <th>二级分类_整数</th>\n",
       "      <th>三级分类_整数</th>\n",
       "    </tr>\n",
       "  </thead>\n",
       "  <tbody>\n",
       "    <tr>\n",
       "      <th>0</th>\n",
       "      <td>**N蓝妹啤酒易拉罐3</td>\n",
       "      <td>酒类</td>\n",
       "      <td>啤酒</td>\n",
       "      <td>啤酒</td>\n",
       "      <td>0</td>\n",
       "      <td>0</td>\n",
       "      <td>0</td>\n",
       "    </tr>\n",
       "    <tr>\n",
       "      <th>1</th>\n",
       "      <td>农夫水溶C100青皮桔445ml</td>\n",
       "      <td>饮料</td>\n",
       "      <td>果蔬汁</td>\n",
       "      <td>果蔬饮料</td>\n",
       "      <td>1</td>\n",
       "      <td>1</td>\n",
       "      <td>1</td>\n",
       "    </tr>\n",
       "    <tr>\n",
       "      <th>2</th>\n",
       "      <td>N七匹狼（软灰）</td>\n",
       "      <td>烟类</td>\n",
       "      <td>香烟</td>\n",
       "      <td>软盒香烟</td>\n",
       "      <td>2</td>\n",
       "      <td>2</td>\n",
       "      <td>2</td>\n",
       "    </tr>\n",
       "    <tr>\n",
       "      <th>3</th>\n",
       "      <td>N七匹狼（软红）</td>\n",
       "      <td>烟类</td>\n",
       "      <td>香烟</td>\n",
       "      <td>软盒香烟</td>\n",
       "      <td>2</td>\n",
       "      <td>2</td>\n",
       "      <td>2</td>\n",
       "    </tr>\n",
       "    <tr>\n",
       "      <th>4</th>\n",
       "      <td>农夫山泉水550ml</td>\n",
       "      <td>饮料</td>\n",
       "      <td>水</td>\n",
       "      <td>矿泉水</td>\n",
       "      <td>1</td>\n",
       "      <td>3</td>\n",
       "      <td>3</td>\n",
       "    </tr>\n",
       "  </tbody>\n",
       "</table>\n",
       "</div>"
      ],
      "text/plain": [
       "               商品名称 一级分类 二级分类  三级分类  一级分类_整数  二级分类_整数  三级分类_整数\n",
       "0       **N蓝妹啤酒易拉罐3   酒类   啤酒    啤酒        0        0        0\n",
       "1  农夫水溶C100青皮桔445ml   饮料  果蔬汁  果蔬饮料        1        1        1\n",
       "2          N七匹狼（软灰）   烟类   香烟  软盒香烟        2        2        2\n",
       "3          N七匹狼（软红）   烟类   香烟  软盒香烟        2        2        2\n",
       "4        农夫山泉水550ml   饮料    水   矿泉水        1        3        3"
      ]
     },
     "execution_count": 3,
     "metadata": {},
     "output_type": "execute_result"
    }
   ],
   "source": [
    "#标签映射为整数\n",
    "listType = data['一级分类'].unique()\n",
    "com_map = dict.fromkeys(listType)\n",
    "for i in range(len(listType)):\n",
    "    com_map[listType[i]] = i\n",
    "data['一级分类_整数'] = data['一级分类'].map(com_map)\n",
    "\n",
    "listType = data['二级分类'].unique()\n",
    "com_map = dict.fromkeys(listType)\n",
    "for i in range(len(listType)):\n",
    "    com_map[listType[i]] = i\n",
    "data['二级分类_整数'] = data['二级分类'].map(com_map)\n",
    "\n",
    "listType = data['三级分类'].unique()\n",
    "com_map = dict.fromkeys(listType)\n",
    "for i in range(len(listType)):\n",
    "    com_map[listType[i]] = i\n",
    "data['三级分类_整数'] = data['三级分类'].map(com_map)\n",
    "\n",
    "data.head()"
   ]
  },
  {
   "cell_type": "code",
   "execution_count": 4,
   "id": "220f3a3a",
   "metadata": {},
   "outputs": [
    {
     "data": {
      "image/png": "[encoded data removed]",
      "text/plain": [
       "<Figure size 1080x576 with 3 Axes>"
      ]
     },
     "metadata": {
      "needs_background": "light"
     },
     "output_type": "display_data"
    }
   ],
   "source": [
    "#观察样本比例\n",
    "fig,axes=plt.subplots(nrows=3,ncols=1,figsize=(15,8))\n",
    "data['一级分类_整数'].value_counts().plot.bar(ax=axes[0])\n",
    "data['二级分类_整数'].value_counts().plot.bar(ax=axes[1])\n",
    "data['三级分类_整数'].value_counts().plot.bar(ax=axes[2])\n",
    "plt.show()"
   ]
  },
  {
   "cell_type": "markdown",
   "id": "335b0e20",
   "metadata": {},
   "source": [
    "## 存在比较严重的比例失衡问题"
   ]
  },
  {
   "cell_type": "markdown",
   "id": "b93c1bd2",
   "metadata": {},
   "source": [
    "## 目前想到可以采用不同做法的地方：\n",
    "#### 1、样本失衡的处理方法\n",
    "#### 2、不同的词向量化方法\n",
    "#### 3、训练集与测试集的划分（如果解决了样本失衡可不考虑）\n",
    "#### 4、三级分类用三个模型还是一个模型\n",
    "#### 5、不同的模型\n",
    "\n",
    "\n",
    "## 可能存在的问题：\n",
    "#### 1、模型是否存在依赖品牌名称的现象，如果是，是好还是坏"
   ]
  },
  {
   "cell_type": "code",
   "execution_count": 5,
   "id": "c0191a67",
   "metadata": {},
   "outputs": [],
   "source": [
    "first_f1_score_h = []\n",
    "first_acc_h = []\n",
    "\n",
    "second_f1_score_h = []\n",
    "second_acc_h = []\n",
    "\n",
    "third_f1_score_h = []\n",
    "third_acc_h = []"
   ]
  },
  {
   "cell_type": "markdown",
   "id": "bc70eacc",
   "metadata": {},
   "source": [
    "## 模型1：采用词袋向量/不对原数据的失衡比例做处理/随机划分训练集与测试集/高斯朴素贝叶斯分别对三类标签拟合"
   ]
  },
  {
   "cell_type": "code",
   "execution_count": 6,
   "id": "a47fd470",
   "metadata": {},
   "outputs": [
    {
     "name": "stderr",
     "output_type": "stream",
     "text": [
      "Building prefix dict from the default dictionary ...\n",
      "Dumping model to file cache /var/folders/_t/zp2z4_4x4gg78j4gh86h6z5m0000gn/T/jieba.cache\n",
      "Loading model cost 0.881 seconds.\n",
      "Prefix dict has been built successfully.\n"
     ]
    },
    {
     "data": {
      "text/html": [
       "<div>\n",
       "<style scoped>\n",
       "    .dataframe tbody tr th:only-of-type {\n",
       "        vertical-align: middle;\n",
       "    }\n",
       "\n",
       "    .dataframe tbody tr th {\n",
       "        vertical-align: top;\n",
       "    }\n",
       "\n",
       "    .dataframe thead th {\n",
       "        text-align: right;\n",
       "    }\n",
       "</style>\n",
       "<table border=\"1\" class=\"dataframe\">\n",
       "  <thead>\n",
       "    <tr style=\"text-align: right;\">\n",
       "      <th></th>\n",
       "      <th>N</th>\n",
       "      <th>蓝妹</th>\n",
       "      <th>啤酒</th>\n",
       "      <th>易拉罐</th>\n",
       "      <th>农夫</th>\n",
       "      <th>水溶</th>\n",
       "      <th>C100</th>\n",
       "      <th>青皮</th>\n",
       "      <th>桔</th>\n",
       "      <th>445ml</th>\n",
       "      <th>...</th>\n",
       "      <th>绿野</th>\n",
       "      <th>恬静</th>\n",
       "      <th>鲻</th>\n",
       "      <th>卧云东</th>\n",
       "      <th>紫衫</th>\n",
       "      <th>擅梅菜</th>\n",
       "      <th>紫仙</th>\n",
       "      <th>派香</th>\n",
       "      <th>派原</th>\n",
       "      <th>祖名素</th>\n",
       "    </tr>\n",
       "  </thead>\n",
       "  <tbody>\n",
       "    <tr>\n",
       "      <th>0</th>\n",
       "      <td>1</td>\n",
       "      <td>1</td>\n",
       "      <td>1</td>\n",
       "      <td>1</td>\n",
       "      <td>0</td>\n",
       "      <td>0</td>\n",
       "      <td>0</td>\n",
       "      <td>0</td>\n",
       "      <td>0</td>\n",
       "      <td>0</td>\n",
       "      <td>...</td>\n",
       "      <td>0</td>\n",
       "      <td>0</td>\n",
       "      <td>0</td>\n",
       "      <td>0</td>\n",
       "      <td>0</td>\n",
       "      <td>0</td>\n",
       "      <td>0</td>\n",
       "      <td>0</td>\n",
       "      <td>0</td>\n",
       "      <td>0</td>\n",
       "    </tr>\n",
       "    <tr>\n",
       "      <th>1</th>\n",
       "      <td>0</td>\n",
       "      <td>0</td>\n",
       "      <td>0</td>\n",
       "      <td>0</td>\n",
       "      <td>1</td>\n",
       "      <td>1</td>\n",
       "      <td>1</td>\n",
       "      <td>1</td>\n",
       "      <td>1</td>\n",
       "      <td>1</td>\n",
       "      <td>...</td>\n",
       "      <td>0</td>\n",
       "      <td>0</td>\n",
       "      <td>0</td>\n",
       "      <td>0</td>\n",
       "      <td>0</td>\n",
       "      <td>0</td>\n",
       "      <td>0</td>\n",
       "      <td>0</td>\n",
       "      <td>0</td>\n",
       "      <td>0</td>\n",
       "    </tr>\n",
       "    <tr>\n",
       "      <th>2</th>\n",
       "      <td>1</td>\n",
       "      <td>0</td>\n",
       "      <td>0</td>\n",
       "      <td>0</td>\n",
       "      <td>0</td>\n",
       "      <td>0</td>\n",
       "      <td>0</td>\n",
       "      <td>0</td>\n",
       "      <td>0</td>\n",
       "      <td>0</td>\n",
       "      <td>...</td>\n",
       "      <td>0</td>\n",
       "      <td>0</td>\n",
       "      <td>0</td>\n",
       "      <td>0</td>\n",
       "      <td>0</td>\n",
       "      <td>0</td>\n",
       "      <td>0</td>\n",
       "      <td>0</td>\n",
       "      <td>0</td>\n",
       "      <td>0</td>\n",
       "    </tr>\n",
       "    <tr>\n",
       "      <th>3</th>\n",
       "      <td>1</td>\n",
       "      <td>0</td>\n",
       "      <td>0</td>\n",
       "      <td>0</td>\n",
       "      <td>0</td>\n",
       "      <td>0</td>\n",
       "      <td>0</td>\n",
       "      <td>0</td>\n",
       "      <td>0</td>\n",
       "      <td>0</td>\n",
       "      <td>...</td>\n",
       "      <td>0</td>\n",
       "      <td>0</td>\n",
       "      <td>0</td>\n",
       "      <td>0</td>\n",
       "      <td>0</td>\n",
       "      <td>0</td>\n",
       "      <td>0</td>\n",
       "      <td>0</td>\n",
       "      <td>0</td>\n",
       "      <td>0</td>\n",
       "    </tr>\n",
       "    <tr>\n",
       "      <th>4</th>\n",
       "      <td>0</td>\n",
       "      <td>0</td>\n",
       "      <td>0</td>\n",
       "      <td>0</td>\n",
       "      <td>0</td>\n",
       "      <td>0</td>\n",
       "      <td>0</td>\n",
       "      <td>0</td>\n",
       "      <td>0</td>\n",
       "      <td>0</td>\n",
       "      <td>...</td>\n",
       "      <td>0</td>\n",
       "      <td>0</td>\n",
       "      <td>0</td>\n",
       "      <td>0</td>\n",
       "      <td>0</td>\n",
       "      <td>0</td>\n",
       "      <td>0</td>\n",
       "      <td>0</td>\n",
       "      <td>0</td>\n",
       "      <td>0</td>\n",
       "    </tr>\n",
       "  </tbody>\n",
       "</table>\n",
       "<p>5 rows × 12974 columns</p>\n",
       "</div>"
      ],
      "text/plain": [
       "   N  蓝妹  啤酒  易拉罐  农夫  水溶  C100  青皮  桔  445ml  ...  绿野  恬静  鲻  卧云东  紫衫  擅梅菜  \\\n",
       "0  1   1   1    1   0   0     0   0  0      0  ...   0   0  0    0   0    0   \n",
       "1  0   0   0    0   1   1     1   1  1      1  ...   0   0  0    0   0    0   \n",
       "2  1   0   0    0   0   0     0   0  0      0  ...   0   0  0    0   0    0   \n",
       "3  1   0   0    0   0   0     0   0  0      0  ...   0   0  0    0   0    0   \n",
       "4  0   0   0    0   0   0     0   0  0      0  ...   0   0  0    0   0    0   \n",
       "\n",
       "   紫仙  派香  派原  祖名素  \n",
       "0   0   0   0    0  \n",
       "1   0   0   0    0  \n",
       "2   0   0   0    0  \n",
       "3   0   0   0    0  \n",
       "4   0   0   0    0  \n",
       "\n",
       "[5 rows x 12974 columns]"
      ]
     },
     "execution_count": 6,
     "metadata": {},
     "output_type": "execute_result"
    }
   ],
   "source": [
    "#词袋向量\n",
    "stopkey = [w.strip() for w in codecs.open('/Users/mac/未命名文件夹/呆萌的停用词表.txt', 'r').readlines()]\n",
    "names = \"\"\n",
    "for name in data['商品名称']:\n",
    "    names += (name + \"\\n\")\n",
    "corpus = {}\n",
    "for i, com in enumerate(names.split('\\n')):\n",
    "    dict1 = {}\n",
    "    for tok in jieba.lcut(com):\n",
    "        if tok not in stopkey:\n",
    "            dict1[tok] = 1\n",
    "    corpus[i] = dict1\n",
    "df = pd.DataFrame.from_records(corpus).fillna(0).astype(int).T\n",
    "df = df.loc[:df.shape[0]-2]\n",
    "df.head()"
   ]
  },
  {
   "cell_type": "code",
   "execution_count": null,
   "id": "437cbb24",
   "metadata": {},
   "outputs": [],
   "source": [
    "#一级标签效果\n",
    "X = df\n",
    "Y = data['一级分类_整数']\n",
    "X_train, X_test, Y_train, Y_test = train_test_split(X, Y, train_size = 0.7, random_state = 123)\n",
    "modelNB1=GaussianNB()\n",
    "modelNB1.fit(X_train,Y_train)\n",
    "Y_pre = modelNB1.predict(X_test)\n",
    "print(classification_report(Y_test, Y_pre))\n",
    "first_acc_h.append(accuracy_score(Y_test, Y_pre))\n",
    "first_f1_score_h.append(f1_score(Y_test, Y_pre, average='weighted'))"
   ]
  },
  {
   "cell_type": "code",
   "execution_count": null,
   "id": "e8406ba0",
   "metadata": {},
   "outputs": [],
   "source": [
    "#二级标签效果\n",
    "Y = data['二级分类_整数']\n",
    "X_train, X_test, Y_train, Y_test = train_test_split(X, Y, train_size = 0.7, random_state = 123)\n",
    "modelNB2=GaussianNB()\n",
    "modelNB2.fit(X_train,Y_train)\n",
    "Y_pre = modelNB2.predict(X_test)\n",
    "print(classification_report(Y_test, Y_pre))\n",
    "second_acc_h.append(accuracy_score(Y_test, Y_pre))\n",
    "second_f1_score_h.append(f1_score(Y_test, Y_pre, average='weighted'))"
   ]
  },
  {
   "cell_type": "code",
   "execution_count": null,
   "id": "5766597b",
   "metadata": {
    "scrolled": false
   },
   "outputs": [],
   "source": [
    "#三级标签效果\n",
    "Y = data['三级分类_整数']\n",
    "X_train, X_test, Y_train, Y_test = train_test_split(X, Y, train_size = 0.7, random_state = 123)\n",
    "modelNB3=GaussianNB()\n",
    "modelNB3.fit(X_train,Y_train)\n",
    "Y_pre = modelNB3.predict(X_test)\n",
    "print(classification_report(Y_test, Y_pre))\n",
    "third_acc_h.append(accuracy_score(Y_test, Y_pre))\n",
    "third_f1_score_h.append(f1_score(Y_test, Y_pre, average='weighted'))"
   ]
  },
  {
   "cell_type": "markdown",
   "id": "8538a5c8",
   "metadata": {},
   "source": [
    "## 模型2：采用词袋向量/不对原数据的失衡比例做处理/随机划分训练集与测试集/随机森林分别对三类标签拟合"
   ]
  },
  {
   "cell_type": "code",
   "execution_count": null,
   "id": "d486aae4",
   "metadata": {},
   "outputs": [],
   "source": [
    "from sklearn import ensemble\n",
    "#一级标签\n",
    "Y = data['一级分类_整数']\n",
    "X_train, X_test, Y_train, Y_test = train_test_split(X, Y, train_size = 0.7, random_state = 123)\n",
    "search = range(10,101,10)\n",
    "testAcc = []\n",
    "testF1 = []\n",
    "for b in search:\n",
    "    modelRF1 = ensemble.RandomForestClassifier(n_estimators=b,oob_score=True,random_state=123)\n",
    "    modelRF1.fit(X_train,Y_train)\n",
    "    Y_pre = modelRF1.predict(X_test)\n",
    "    testAcc.append(accuracy_score(Y_test, Y_pre))\n",
    "    testF1.append(f1_score(Y_test, Y_pre, average='weighted'))\n",
    "fig = plt.figure(figsize=(15,6))\n",
    "ax1 = fig.add_subplot(121)\n",
    "ax1.grid(True, linestyle = '-.')\n",
    "ax1.plot(search, testAcc, label=\"testAcc\", marker='o', linestyle = '-.')\n",
    "ax1.plot(search, testF1, label=\"testF1\", marker='o', linestyle = '-.')"
   ]
  },
  {
   "cell_type": "code",
   "execution_count": 11,
   "id": "90920aa2",
   "metadata": {},
   "outputs": [],
   "source": [
    "first_acc_h.append(max(testAcc))\n",
    "first_f1_score_h.append(testF1[testAcc.index(max(testAcc))])"
   ]
  },
  {
   "cell_type": "code",
   "execution_count": null,
   "id": "b0fef6b3",
   "metadata": {},
   "outputs": [],
   "source": [
    "#二级标签\n",
    "Y = data['二级分类_整数']\n",
    "X_train, X_test, Y_train, Y_test = train_test_split(X, Y, train_size = 0.7, random_state = 123)\n",
    "search = range(10,101,10)\n",
    "testAcc = []\n",
    "testF1 = []\n",
    "for b in search:\n",
    "    modelRF2 = ensemble.RandomForestClassifier(n_estimators=b,oob_score=True,random_state=123)\n",
    "    modelRF2.fit(X_train,Y_train)\n",
    "    Y_pre = modelRF2.predict(X_test)\n",
    "    testAcc.append(accuracy_score(Y_test, Y_pre))\n",
    "    testF1.append(f1_score(Y_test, Y_pre, average='weighted'))\n",
    "fig = plt.figure(figsize=(15,6))\n",
    "ax1 = fig.add_subplot(121)\n",
    "ax1.grid(True, linestyle = '-.')\n",
    "ax1.plot(search, testAcc, label=\"testAcc\", marker='o', linestyle = '-.')\n",
    "ax1.plot(search, testF1, label=\"testF1\", marker='o', linestyle = '-.')"
   ]
  },
  {
   "cell_type": "code",
   "execution_count": 13,
   "id": "42a5f17c",
   "metadata": {},
   "outputs": [],
   "source": [
    "second_acc_h.append(max(testAcc))\n",
    "second_f1_score_h.append(testF1[testAcc.index(max(testAcc))])"
   ]
  },
  {
   "cell_type": "code",
   "execution_count": null,
   "id": "57bee842",
   "metadata": {},
   "outputs": [],
   "source": [
    "#三级标签\n",
    "Y = data['三级分类_整数']\n",
    "X_train, X_test, Y_train, Y_test = train_test_split(X, Y, train_size = 0.7, random_state = 123)\n",
    "search = range(10,101,10)\n",
    "testAcc = []\n",
    "testF1 = []\n",
    "for b in search:\n",
    "    modelRF3 = ensemble.RandomForestClassifier(n_estimators=b,oob_score=True,random_state=123)\n",
    "    modelRF3.fit(X_train,Y_train)\n",
    "    Y_pre = modelRF3.predict(X_test)\n",
    "    testAcc.append(accuracy_score(Y_test, Y_pre))\n",
    "    testF1.append(f1_score(Y_test, Y_pre, average='weighted'))\n",
    "fig = plt.figure(figsize=(15,6))\n",
    "ax1 = fig.add_subplot(121)\n",
    "ax1.grid(True, linestyle = '-.')\n",
    "ax1.plot(search, testAcc, label=\"testAcc\", marker='o', linestyle = '-.')\n",
    "ax1.plot(search, testF1, label=\"testF1\", marker='o', linestyle = '-.')"
   ]
  },
  {
   "cell_type": "code",
   "execution_count": 15,
   "id": "6a77ba93",
   "metadata": {},
   "outputs": [],
   "source": [
    "third_acc_h.append(max(testAcc))\n",
    "third_f1_score_h.append(testF1[testAcc.index(max(testAcc))])"
   ]
  },
  {
   "cell_type": "markdown",
   "id": "68606e6a",
   "metadata": {},
   "source": [
    "## 模型3：采用词袋向量/不对原数据的失衡比例做处理/随机划分训练集与测试集/支持向量机分别对三类标签拟合"
   ]
  },
  {
   "cell_type": "code",
   "execution_count": null,
   "id": "9881e243",
   "metadata": {},
   "outputs": [],
   "source": [
    "from sklearn import svm\n",
    "#一级标签\n",
    "Y = data['一级分类_整数']\n",
    "X_train, X_test, Y_train, Y_test = train_test_split(X, Y, train_size = 0.7, random_state = 123)\n",
    "modelSVC1 = svm.SVC(kernel='rbf', random_state = 123)\n",
    "modelSVC1.fit(X_train,Y_train)\n",
    "Y_pre = modelSVC1.predict(X_test)\n",
    "print(classification_report(Y_test, Y_pre))\n",
    "first_acc_h.append(accuracy_score(Y_test, Y_pre))\n",
    "first_f1_score_h.append(f1_score(Y_test, Y_pre, average='weighted'))"
   ]
  },
  {
   "cell_type": "code",
   "execution_count": null,
   "id": "542312bd",
   "metadata": {
    "scrolled": false
   },
   "outputs": [],
   "source": [
    "#二级标签\n",
    "Y = data['二级分类_整数']\n",
    "X_train, X_test, Y_train, Y_test = train_test_split(X, Y, train_size = 0.7, random_state = 123)\n",
    "modelSVC2 = svm.SVC(kernel='rbf', random_state = 123)\n",
    "modelSVC2.fit(X_train,Y_train)\n",
    "Y_pre = modelSVC2.predict(X_test)\n",
    "print(classification_report(Y_test, Y_pre))\n",
    "second_acc_h.append(accuracy_score(Y_test, Y_pre))\n",
    "second_f1_score_h.append(f1_score(Y_test, Y_pre, average='weighted'))"
   ]
  },
  {
   "cell_type": "code",
   "execution_count": null,
   "id": "9f574249",
   "metadata": {},
   "outputs": [],
   "source": [
    "#三级标签\n",
    "Y = data['三级分类_整数']\n",
    "X_train, X_test, Y_train, Y_test = train_test_split(X, Y, train_size = 0.7, random_state = 123)\n",
    "modelSVC3 = svm.SVC(kernel='rbf', random_state = 123)\n",
    "modelSVC3.fit(X_train,Y_train)\n",
    "Y_pre = modelSVC3.predict(X_test)\n",
    "print(classification_report(Y_test, Y_pre))\n",
    "third_acc_h.append(accuracy_score(Y_test, Y_pre))\n",
    "third_f1_score_h.append(f1_score(Y_test, Y_pre, average='weighted'))"
   ]
  },
  {
   "cell_type": "markdown",
   "id": "9297c5a4",
   "metadata": {},
   "source": [
    "## 模型4：采用tf-idf/不对原数据的失衡比例做处理/随机划分训练集与测试集/高斯朴素贝叶斯分别对三类标签拟合"
   ]
  },
  {
   "cell_type": "code",
   "execution_count": 27,
   "id": "d792027f",
   "metadata": {},
   "outputs": [],
   "source": [
    "from sklearn.feature_extraction.text import TfidfVectorizer\n",
    "TextSet = []\n",
    "for name in data['商品名称']:\n",
    "    TextSet.append(name)\n",
    "WordSet = [\" \".join(jieba.cut(item)) for item in TextSet]\n",
    "\n",
    "def cleanText(alltext):\n",
    "    textNew=[]\n",
    "    for sig_list in alltext:\n",
    "        tmp = [''.join(words) for words in sig_list.split(' ') if (words not in stopkey)]\n",
    "        textNew.append(' '.join(tmp))\n",
    "    return(textNew)\n",
    "\n",
    "WordSetN=cleanText(WordSet)\n",
    "vectorizer = TfidfVectorizer()\n",
    "X = vectorizer.fit_transform(WordSetN)\n",
    "words = vectorizer.get_feature_names()\n",
    "df2 = pd.DataFrame(X.toarray(),columns=words)\n",
    "X = df2"
   ]
  },
  {
   "cell_type": "code",
   "execution_count": null,
   "id": "cd71b0c8",
   "metadata": {},
   "outputs": [],
   "source": [
    "#一级标签\n",
    "Y = data['一级分类_整数']\n",
    "X_train, X_test, Y_train, Y_test = train_test_split(X, Y, train_size = 0.7, random_state = 123)\n",
    "modelNB1=GaussianNB()\n",
    "modelNB1.fit(X_train,Y_train)\n",
    "Y_pre = modelNB1.predict(X_test)\n",
    "print(classification_report(Y_test, Y_pre))\n",
    "first_acc_h.append(accuracy_score(Y_test, Y_pre))\n",
    "first_f1_score_h.append(f1_score(Y_test, Y_pre, average='weighted'))"
   ]
  },
  {
   "cell_type": "code",
   "execution_count": null,
   "id": "8205cc1e",
   "metadata": {
    "scrolled": false
   },
   "outputs": [],
   "source": [
    "#二级标签\n",
    "Y = data['二级分类_整数']\n",
    "X_train, X_test, Y_train, Y_test = train_test_split(X, Y, train_size = 0.7, random_state = 123)\n",
    "modelNB2=GaussianNB()\n",
    "modelNB2.fit(X_train,Y_train)\n",
    "Y_pre = modelNB2.predict(X_test)\n",
    "print(classification_report(Y_test, Y_pre))\n",
    "second_acc_h.append(accuracy_score(Y_test, Y_pre))\n",
    "second_f1_score_h.append(f1_score(Y_test, Y_pre, average='weighted'))"
   ]
  },
  {
   "cell_type": "code",
   "execution_count": null,
   "id": "e2eec478",
   "metadata": {
    "scrolled": false
   },
   "outputs": [],
   "source": [
    "#三级标签\n",
    "Y = data['三级分类_整数']\n",
    "X_train, X_test, Y_train, Y_test = train_test_split(X, Y, train_size = 0.7, random_state = 123)\n",
    "modelNB3=GaussianNB()\n",
    "modelNB3.fit(X_train,Y_train)\n",
    "Y_pre = modelNB3.predict(X_test)\n",
    "print(classification_report(Y_test, Y_pre))\n",
    "third_acc_h.append(accuracy_score(Y_test, Y_pre))\n",
    "third_f1_score_h.append(f1_score(Y_test, Y_pre, average='weighted'))"
   ]
  },
  {
   "cell_type": "markdown",
   "id": "931ba77d",
   "metadata": {},
   "source": [
    "## 模型5：采用tf-idf/不对原数据的失衡比例做处理/随机划分训练集与测试集/随机森林分别对三类标签拟合"
   ]
  },
  {
   "cell_type": "code",
   "execution_count": null,
   "id": "5d3e0c99",
   "metadata": {},
   "outputs": [],
   "source": [
    "from sklearn import ensemble\n",
    "#一级标签\n",
    "Y = data['一级分类_整数']\n",
    "X_train, X_test, Y_train, Y_test = train_test_split(X, Y, train_size = 0.7, random_state = 123)\n",
    "search = range(10,101,10)\n",
    "testAcc = []\n",
    "testF1 = []\n",
    "for b in search:\n",
    "    modelRF1 = ensemble.RandomForestClassifier(n_estimators=b,oob_score=True,random_state=123)\n",
    "    modelRF1.fit(X_train,Y_train)\n",
    "    Y_pre = modelRF1.predict(X_test)\n",
    "    testAcc.append(accuracy_score(Y_test, Y_pre))\n",
    "    testF1.append(f1_score(Y_test, Y_pre, average='weighted'))\n",
    "first_acc_h.append(max(testAcc))\n",
    "first_f1_score_h.append(testF1[testAcc.index(max(testAcc))])\n",
    "fig = plt.figure(figsize=(15,6))\n",
    "ax1 = fig.add_subplot(121)\n",
    "ax1.grid(True, linestyle = '-.')\n",
    "ax1.plot(search, testAcc, label=\"testAcc\", marker='o', linestyle = '-.')\n",
    "ax1.plot(search, testF1, label=\"testF1\", marker='o', linestyle = '-.')\n",
    "ax1.legend()"
   ]
  },
  {
   "cell_type": "code",
   "execution_count": null,
   "id": "cbb9d310",
   "metadata": {},
   "outputs": [],
   "source": [
    "#二级标签\n",
    "Y = data['二级分类_整数']\n",
    "X_train, X_test, Y_train, Y_test = train_test_split(X, Y, train_size = 0.7, random_state = 123)\n",
    "search = range(10,101,10)\n",
    "testAcc = []\n",
    "testF1 = []\n",
    "for b in search:\n",
    "    modelRF2 = ensemble.RandomForestClassifier(n_estimators=b,oob_score=True,random_state=123)\n",
    "    modelRF2.fit(X_train,Y_train)\n",
    "    Y_pre = modelRF2.predict(X_test)\n",
    "    testAcc.append(accuracy_score(Y_test, Y_pre))\n",
    "    testF1.append(f1_score(Y_test, Y_pre, average='weighted'))\n",
    "second_acc_h.append(max(testAcc))\n",
    "second_f1_score_h.append(testF1[testAcc.index(max(testAcc))])\n",
    "fig = plt.figure(figsize=(15,6))\n",
    "ax1 = fig.add_subplot(121)\n",
    "ax1.grid(True, linestyle = '-.')\n",
    "ax1.plot(search, testAcc, label=\"testAcc\", marker='o', linestyle = '-.')\n",
    "ax1.plot(search, testF1, label=\"testF1\", marker='o', linestyle = '-.')\n",
    "ax1.legend()"
   ]
  },
  {
   "cell_type": "code",
   "execution_count": null,
   "id": "2cd3699b",
   "metadata": {},
   "outputs": [],
   "source": [
    "#三级标签\n",
    "Y = data['三级分类_整数']\n",
    "X_train, X_test, Y_train, Y_test = train_test_split(X, Y, train_size = 0.7, random_state = 123)\n",
    "search = range(10,101,10)\n",
    "testAcc = []\n",
    "testF1 = []\n",
    "for b in search:\n",
    "    modelRF3 = ensemble.RandomForestClassifier(n_estimators=b,oob_score=True,random_state=123)\n",
    "    modelRF3.fit(X_train,Y_train)\n",
    "    Y_pre = modelRF3.predict(X_test)\n",
    "    testAcc.append(accuracy_score(Y_test, Y_pre))\n",
    "    testF1.append(f1_score(Y_test, Y_pre, average='weighted'))\n",
    "third_acc_h.append(max(testAcc))\n",
    "third_f1_score_h.append(testF1[testAcc.index(max(testAcc))])\n",
    "fig = plt.figure(figsize=(15,6))\n",
    "ax1 = fig.add_subplot(121)\n",
    "ax1.grid(True, linestyle = '-.')\n",
    "ax1.plot(search, testAcc, label=\"testAcc\", marker='o', linestyle = '-.')\n",
    "ax1.plot(search, testF1, label=\"testF1\", marker='o', linestyle = '-.')\n",
    "ax1.legend()"
   ]
  },
  {
   "cell_type": "markdown",
   "id": "8aa945e5",
   "metadata": {},
   "source": [
    "## 模型6：采用tf-idf/不对原数据的失衡比例做处理/随机划分训练集与测试集/支持向量机分别对三类标签拟合"
   ]
  },
  {
   "cell_type": "code",
   "execution_count": null,
   "id": "6e9f9cee",
   "metadata": {},
   "outputs": [],
   "source": [
    "#一级标签\n",
    "Y = data['一级分类_整数']\n",
    "X_train, X_test, Y_train, Y_test = train_test_split(X, Y, train_size = 0.7, random_state = 123)\n",
    "modelSVC1 = svm.SVC(kernel='rbf', random_state = 123)\n",
    "modelSVC1.fit(X_train,Y_train)\n",
    "Y_pre = modelSVC1.predict(X_test)\n",
    "print(classification_report(Y_test, Y_pre))\n",
    "first_acc_h.append(accuracy_score(Y_test, Y_pre))\n",
    "first_f1_score_h.append(f1_score(Y_test, Y_pre, average='weighted'))"
   ]
  },
  {
   "cell_type": "code",
   "execution_count": null,
   "id": "1baefa1f",
   "metadata": {
    "scrolled": false
   },
   "outputs": [],
   "source": [
    "#二级标签\n",
    "Y = data['二级分类_整数']\n",
    "X_train, X_test, Y_train, Y_test = train_test_split(X, Y, train_size = 0.7, random_state = 123)\n",
    "modelNB2=GaussianNB()\n",
    "modelNB2.fit(X_train,Y_train)\n",
    "Y_pre = modelNB2.predict(X_test)\n",
    "print(classification_report(Y_test, Y_pre))\n",
    "second_acc_h.append(accuracy_score(Y_test, Y_pre))\n",
    "second_f1_score_h.append(f1_score(Y_test, Y_pre, average='weighted'))"
   ]
  },
  {
   "cell_type": "code",
   "execution_count": null,
   "id": "3e183cb9",
   "metadata": {
    "scrolled": false
   },
   "outputs": [],
   "source": [
    "#三级标签\n",
    "Y = data['三级分类_整数']\n",
    "X_train, X_test, Y_train, Y_test = train_test_split(X, Y, train_size = 0.7, random_state = 123)\n",
    "modelNB3=GaussianNB()\n",
    "modelNB3.fit(X_train,Y_train)\n",
    "Y_pre = modelNB3.predict(X_test)\n",
    "print(classification_report(Y_test, Y_pre))\n",
    "third_acc_h.append(accuracy_score(Y_test, Y_pre))\n",
    "third_f1_score_h.append(f1_score(Y_test, Y_pre, average='weighted'))"
   ]
  },
  {
   "cell_type": "markdown",
   "id": "97370605",
   "metadata": {},
   "source": [
    "#### Acc/F1柱状图"
   ]
  },
  {
   "cell_type": "code",
   "execution_count": 5,
   "id": "f6f443ba",
   "metadata": {},
   "outputs": [
    {
     "data": {
      "text/plain": [
       "<matplotlib.legend.Legend at 0x11dec8fd0>"
      ]
     },
     "execution_count": 5,
     "metadata": {},
     "output_type": "execute_result"
    },
    {
     "data": {
      "image/png": "[encoded data removed]",
      "text/plain": [
       "<Figure size 432x288 with 1 Axes>"
      ]
     },
     "metadata": {
      "needs_background": "light"
     },
     "output_type": "display_data"
    }
   ],
   "source": [
    "color = plt.cm.tab20c(np.linspace(0, 0.36, 6))\n",
    "\n",
    "Acc = [first_acc_h, second_acc_h, third_acc_h]\n",
    "ysr=['First Label', 'Second Label', 'Third Label']\n",
    "x1 = [1,8,15]\n",
    "x2 = [i + 1 for i in x1]\n",
    "x3 = [i + 2 for i in x1]\n",
    "x4 = [i + 3 for i in x1]\n",
    "x5 = [i + 4 for i in x1]\n",
    "x6 = [i + 5 for i in x1]\n",
    "y1 = [i[0] for i in Acc]\n",
    "y2 = [i[1] for i in Acc]\n",
    "y3 = [i[2] for i in Acc]\n",
    "y4 = [i[3] for i in Acc]\n",
    "y5 = [i[4] for i in Acc]\n",
    "y6 = [i[5] for i in Acc]\n",
    "ax1 = plt.subplot(1,1,1)\n",
    "plt.sca(ax1)\n",
    "plt.xlabel(\"\") #X轴标签\n",
    "plt.ylabel(\"T est Accuracy\")  #Y轴标签\n",
    "plt.bar(x1, y1, alpha=0.7, width=1, label=\"Bag Vector + Naive Bayes\", color = color[0])\n",
    "plt.bar(x2, y2, alpha=0.7, width=1, label=\"Bag Vector + Random Forest\", color = color[1])\n",
    "plt.bar(x3, y3, alpha=0.7, width=1, label=\"Bag Vector + SVM\", color = color[2])\n",
    "plt.bar(x4, y4, alpha=0.7, width=1, label=\"Tf-idf + Naive Bayes\", color = color[3])\n",
    "plt.bar(x5, y5, alpha=0.7, width=1, label=\"Tf-idf + Random Forest\", color = color[4])\n",
    "plt.bar(x6, y6, alpha=0.7, width=1, label=\"Tf-idf + SVM\", color = color[5])\n",
    "ax1.set_xticks(x3)\n",
    "ax1.set_xticklabels(ysr)\n",
    "box = ax1.get_position()\n",
    "ax1.set_position([box.x0, box.y0, box.width* 0.8 , box.height])\n",
    "ax1.legend(loc='center left', bbox_to_anchor=(1, 0.5),ncol=1)"
   ]
  },
  {
   "cell_type": "code",
   "execution_count": 109,
   "id": "fc7b6cc0",
   "metadata": {},
   "outputs": [
    {
     "data": {
      "text/plain": [
       "<matplotlib.legend.Legend at 0x1f1fb7bd0>"
      ]
     },
     "execution_count": 109,
     "metadata": {},
     "output_type": "execute_result"
    },
    {
     "data": {
      "image/png": "[encoded data removed]",
      "text/plain": [
       "<Figure size 432x288 with 1 Axes>"
      ]
     },
     "metadata": {
      "needs_background": "light"
     },
     "output_type": "display_data"
    }
   ],
   "source": [
    "F1 = [first_f1_score_h, second_f1_score_h, third_f1_score_h]\n",
    "ysr=['First Label', 'Second Label', 'Third Label']\n",
    "x1 = [1,8,15]\n",
    "x2 = [i + 1 for i in x1]\n",
    "x3 = [i + 2 for i in x1]\n",
    "x4 = [i + 3 for i in x1]\n",
    "x5 = [i + 4 for i in x1]\n",
    "x6 = [i + 5 for i in x1]\n",
    "y1 = [i[0] for i in F1]\n",
    "y2 = [i[1] for i in F1]\n",
    "y3 = [i[2] for i in F1]\n",
    "y4 = [i[3] for i in F1]\n",
    "y5 = [i[4] for i in F1]\n",
    "y6 = [i[5] for i in F1]\n",
    "y0 = [\"\",\"\",\"\"]\n",
    "ax1 = plt.subplot(1,1,1)\n",
    "plt.sca(ax1)\n",
    "plt.xlabel(\"\") #X轴标签\n",
    "plt.ylabel(\"T est F1-Score\")  #Y轴标签\n",
    "plt.bar(x1, y1, alpha=0.7, width=1, label=\"Bag Vector + Naive Bayes\", color = color[0])\n",
    "plt.bar(x2, y2, alpha=0.7, width=1, label=\"Bag Vector + Random Forest\", color = color[1])\n",
    "plt.bar(x3, y3, alpha=0.7, width=1, label=\"Bag Vector + SVM\", color = color[2])\n",
    "plt.bar(x4, y4, alpha=0.7, width=1, label=\"Tf-idf + Naive Bayes\", color = color[3])\n",
    "plt.bar(x5, y5, alpha=0.7, width=1, label=\"Tf-idf + Random Forest\", color = color[4])\n",
    "plt.bar(x6, y6, alpha=0.7, width=1, label=\"Tf-idf + SVM\", color = color[5])\n",
    "ax1.set_xticks(x3)\n",
    "ax1.set_xticklabels(ysr)\n",
    "box = ax1.get_position()\n",
    "ax1.set_position([box.x0, box.y0, box.width* 0.8 , box.height])\n",
    "ax1.legend(loc='center left', bbox_to_anchor=(1, 0.5),ncol=1)"
   ]
  },
  {
   "cell_type": "code",
   "execution_count": 112,
   "id": "d4c66cc8",
   "metadata": {},
   "outputs": [
    {
     "data": {
      "text/plain": [
       "[[0.8684327693677649,\n",
       "  0.8397150489759573,\n",
       "  0.8379341050756901,\n",
       "  0.8343722172751559,\n",
       "  0.8299198575244879,\n",
       "  0.8065449688334817],\n",
       " [0.7640249332146037,\n",
       "  0.7595725734639359,\n",
       "  0.7611308993766697,\n",
       "  0.7377560106856634,\n",
       "  0.7524487978628673,\n",
       "  0.7377560106856634],\n",
       " [0.7272929652715939,\n",
       "  0.7361976847729297,\n",
       "  0.7099287622439893,\n",
       "  0.6930097951914514,\n",
       "  0.7281834372217275,\n",
       "  0.6930097951914514]]"
      ]
     },
     "execution_count": 112,
     "metadata": {},
     "output_type": "execute_result"
    }
   ],
   "source": [
    "Acc"
   ]
  },
  {
   "cell_type": "code",
   "execution_count": 111,
   "id": "f4f0f686",
   "metadata": {},
   "outputs": [
    {
     "data": {
      "text/plain": [
       "[[0.8721646270645552,\n",
       "  0.8454380830684984,\n",
       "  0.8308035556798741,\n",
       "  0.8427847087818908,\n",
       "  0.8361367786545584,\n",
       "  0.800560150956417],\n",
       " [0.769528754611683,\n",
       "  0.7672068184702937,\n",
       "  0.756352812452187,\n",
       "  0.7456473586120339,\n",
       "  0.759825550646379,\n",
       "  0.7456473586120339],\n",
       " [0.733008775633781,\n",
       "  0.7513925872900818,\n",
       "  0.7102989560671727,\n",
       "  0.7029327262848254,\n",
       "  0.7337654353340679,\n",
       "  0.7029327262848254]]"
      ]
     },
     "execution_count": 111,
     "metadata": {},
     "output_type": "execute_result"
    }
   ],
   "source": [
    "F1"
   ]
  }
 ],
 "metadata": {
  "kernelspec": {
   "display_name": "Python 3",
   "language": "python",
   "name": "python3"
  },
  "language_info": {
   "codemirror_mode": {
    "name": "ipython",
    "version": 3
   },
   "file_extension": ".py",
   "mimetype": "text/x-python",
   "name": "python",
   "nbconvert_exporter": "python",
   "pygments_lexer": "ipython3",
   "version": "3.7.10"
  }
 },
 "nbformat": 4,
 "nbformat_minor": 5
}
